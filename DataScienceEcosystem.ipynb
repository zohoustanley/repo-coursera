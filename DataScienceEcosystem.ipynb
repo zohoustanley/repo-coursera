{
 "cells": [
  {
   "cell_type": "markdown",
   "id": "eb03eefb-d730-44e7-a43d-b64dcb3ba97e",
   "metadata": {},
   "source": [
    "# Data Science Tools and Ecosystem"
   ]
  },
  {
   "cell_type": "markdown",
   "id": "1a4953f8-e49e-41d5-a7b6-8038f422a48c",
   "metadata": {},
   "source": [
    "In this notebook, Data Science Tools and Ecosystem are summarized."
   ]
  },
  {
   "cell_type": "markdown",
   "id": "63b1b2d0-8cad-4821-8afe-c1a64f65ce1f",
   "metadata": {},
   "source": [
    "Objectives:\n",
    "\n",
    "* List popular languages for Data Science\n",
    "* List popular librairies for Data Science\n",
    "* List some tools used in Data Science\n",
    "* Add few examples of arithmetic expressions in Python"
   ]
  },
  {
   "cell_type": "markdown",
   "id": "6090cffe-259b-4006-9d4d-b1f52a19e4a7",
   "metadata": {},
   "source": [
    "Some of the popular languages that Data Scientists use are:\n",
    "\n",
    "1. Python\n",
    "2. SQL\n",
    "3. R\n",
    "4. Julia\n",
    "5. Javascript\n",
    "6. Scala"
   ]
  },
  {
   "cell_type": "markdown",
   "id": "1e6395ff-9a56-49f8-aa30-7581b8bb4b2d",
   "metadata": {},
   "source": [
    "Some of the commonly used libraries used by Data Scientists include:\n",
    "\n",
    "1. TensorFlow\n",
    "2. Seaborn\n",
    "3. Pytorch\n",
    "4. Keras"
   ]
  },
  {
   "cell_type": "markdown",
   "id": "2c4c7f4e-8bef-4a69-9807-3d8131299534",
   "metadata": {},
   "source": [
    "| Data Science Tools |\n",
    "| --- |\n",
    "| Anaconda |\n",
    "| R studio |\n",
    "| Knime |"
   ]
  },
  {
   "cell_type": "markdown",
   "id": "ca1f414a-d9a5-4597-b28e-0661af5a56ed",
   "metadata": {},
   "source": [
    "### Below are a few examples of evaluating arithmetic expressions in Python"
   ]
  },
  {
   "cell_type": "code",
   "execution_count": 4,
   "id": "02a38c6d-5acc-4dc0-ad19-1c849a554c64",
   "metadata": {},
   "outputs": [
    {
     "data": {
      "text/plain": [
       "17"
      ]
     },
     "execution_count": 4,
     "metadata": {},
     "output_type": "execute_result"
    }
   ],
   "source": [
    "# This a simple arithmetic expression to mutiply then add integers\n",
    "(3*4)+5"
   ]
  },
  {
   "cell_type": "code",
   "execution_count": 3,
   "id": "23cd381d-09ad-4265-8aeb-63067d39608f",
   "metadata": {},
   "outputs": [
    {
     "data": {
      "text/plain": [
       "3.3333333333333335"
      ]
     },
     "execution_count": 3,
     "metadata": {},
     "output_type": "execute_result"
    }
   ],
   "source": [
    "# This will convert 200 minutes to hours by diving by 60\n",
    "200 / 60"
   ]
  },
  {
   "cell_type": "markdown",
   "id": "010f90af-ea9c-4f19-a78f-c602dd4b83b8",
   "metadata": {},
   "source": [
    "## Author\n",
    "Yannick ZOHOU"
   ]
  },
  {
   "cell_type": "code",
   "execution_count": null,
   "id": "0d842b9d-d172-4cf8-8efe-e063fb086b42",
   "metadata": {},
   "outputs": [],
   "source": []
  }
 ],
 "metadata": {
  "kernelspec": {
   "display_name": "Python 3 (ipykernel)",
   "language": "python",
   "name": "python3"
  },
  "language_info": {
   "codemirror_mode": {
    "name": "ipython",
    "version": 3
   },
   "file_extension": ".py",
   "mimetype": "text/x-python",
   "name": "python",
   "nbconvert_exporter": "python",
   "pygments_lexer": "ipython3",
   "version": "3.11.5"
  }
 },
 "nbformat": 4,
 "nbformat_minor": 5
}
